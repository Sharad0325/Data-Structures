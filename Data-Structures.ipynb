{
 "cells": [
  {
   "cell_type": "markdown",
   "id": "299e6c8c-e1e2-402b-b56c-62ddf7f7546b",
   "metadata": {},
   "source": [
    "# Why might you choose a deque from the collections module to implement a queue instead of using a regular Python list?\n",
    "Lists are not the best data structure for queues or stacks in Python for a couple of reasons. First, lists are not thread-safe, which means that if a list is being accessed and modified by multiple threads simultaneously, things might not go well, and you'll probably end up with inconsistent data or an error message.\r\n",
    "\r\n",
    "Also, lists are not efficient when you need to insert or delete an element from its left end. If you use list.append() to insert an element in the right end or list.pop() to delete the rightmost element, the list will perform just fine. However, when you try to perform these operations at the left end, the list needs to shift all other elements to the right, which means that the size of the list affects the time it takes to perform such operations, resulting in poor performance\n",
    ".\n",
    "One of the biggest advantages of deque over a list  t the possibility to append and delete items from the left e.nl?"
   ]
  },
  {
   "cell_type": "markdown",
   "id": "363b7132-326f-4f9f-84a1-29f3fbdf4476",
   "metadata": {},
   "source": [
    "# Can you explain a real-world scenario where using a stack would be a more practical choice than a list for data storage and retrieval?\n",
    "Real-world examples include the 'undo' function in software applications following the 'LIFO(LAST IN FIRST OUT)' principle and \n",
    "a web browser's back button function using stack to track visited sites."
   ]
  },
  {
   "cell_type": "code",
   "execution_count": 5,
   "id": "b46faee4-f2fb-4ba3-b2e0-ed834a6c36bc",
   "metadata": {},
   "outputs": [],
   "source": [
    "browsing_history = []\n",
    "browsing_history.append(\"home page\")\n",
    "browsing_history.append(\"About us\")\n",
    "browsing_history.append(\"contact\")"
   ]
  },
  {
   "cell_type": "code",
   "execution_count": 7,
   "id": "692e1b24-9bb9-466b-870f-b78ef348f3bc",
   "metadata": {},
   "outputs": [
    {
     "data": {
      "text/plain": [
       "['home page', 'About us', 'contact']"
      ]
     },
     "execution_count": 7,
     "metadata": {},
     "output_type": "execute_result"
    }
   ],
   "source": [
    "browsing_history"
   ]
  },
  {
   "cell_type": "code",
   "execution_count": 9,
   "id": "e4e37363-c656-49c5-83a4-573e4ae0baa3",
   "metadata": {},
   "outputs": [
    {
     "data": {
      "text/plain": [
       "'contact'"
      ]
     },
     "execution_count": 9,
     "metadata": {},
     "output_type": "execute_result"
    }
   ],
   "source": [
    "browsing_history.pop()"
   ]
  },
  {
   "cell_type": "code",
   "execution_count": 11,
   "id": "e3feb585-b087-456d-8108-9a9e0ea58ab2",
   "metadata": {},
   "outputs": [
    {
     "data": {
      "text/plain": [
       "['home page', 'About us']"
      ]
     },
     "execution_count": 11,
     "metadata": {},
     "output_type": "execute_result"
    }
   ],
   "source": [
    "browsing_history"
   ]
  },
  {
   "cell_type": "markdown",
   "id": "804cca95-d1e4-410c-911e-dbcacd5629c6",
   "metadata": {},
   "source": [
    "# What is the primary advantage of using sets in Python, and in what type of problem-solving scenarios are they most useful?\n",
    "sets are very useful when we need to store unique data.there are 4 sets operation which become sets more effective\n",
    "1) union(|) , 2) intersection(&) , 3) diffrence(-) , 4) symatric diffrence(^)."
   ]
  },
  {
   "cell_type": "code",
   "execution_count": 15,
   "id": "89d6b2fb-78bf-4309-9c89-b885df8e776f",
   "metadata": {},
   "outputs": [],
   "source": [
    "#example of sets>> unique and unordered collection of elements.\n",
    "a = {1,5,1,4,5,4,1,2,5,4,2,1,1}"
   ]
  },
  {
   "cell_type": "code",
   "execution_count": 17,
   "id": "25f6bae7-5f4c-471d-a5de-2b22eef24423",
   "metadata": {},
   "outputs": [
    {
     "data": {
      "text/plain": [
       "{1, 2, 4, 5}"
      ]
     },
     "execution_count": 17,
     "metadata": {},
     "output_type": "execute_result"
    }
   ],
   "source": [
    "a"
   ]
  },
  {
   "cell_type": "code",
   "execution_count": 39,
   "id": "42cd5e81-8640-4981-b2a8-77210bf79b6a",
   "metadata": {},
   "outputs": [],
   "source": [
    "#example of sets operations\n",
    "bag_1 = {\"banana\", \"orange\", \"apple\", \"mango\"}\n",
    "bag_2 = {\"mango\", \"pinapple\",\"lemon\",\"banana\"}"
   ]
  },
  {
   "cell_type": "code",
   "execution_count": 43,
   "id": "25e2e472-5b08-43c3-8fa9-40a3b5f66afc",
   "metadata": {},
   "outputs": [
    {
     "data": {
      "text/plain": [
       "{'apple', 'banana', 'lemon', 'mango', 'orange', 'pinapple'}"
      ]
     },
     "execution_count": 43,
     "metadata": {},
     "output_type": "execute_result"
    }
   ],
   "source": [
    "bag_1 | bag_2 #union(|)>> give all element from both sets excluding duplicates."
   ]
  },
  {
   "cell_type": "code",
   "execution_count": 41,
   "id": "34af5423-0200-4910-a84f-0a25c707d108",
   "metadata": {},
   "outputs": [
    {
     "data": {
      "text/plain": [
       "{'banana', 'mango'}"
      ]
     },
     "execution_count": 41,
     "metadata": {},
     "output_type": "execute_result"
    }
   ],
   "source": [
    "bag_1 & bag_2 #intersection(&)>>give only common element from both set."
   ]
  },
  {
   "cell_type": "code",
   "execution_count": 45,
   "id": "e381f16d-c9da-4e80-bbe3-dd3e918f982f",
   "metadata": {},
   "outputs": [
    {
     "data": {
      "text/plain": [
       "{'apple', 'orange'}"
      ]
     },
     "execution_count": 45,
     "metadata": {},
     "output_type": "execute_result"
    }
   ],
   "source": [
    "bag_1 - bag_2 #diffrence(-)>>return element that present in first set and not in second set."
   ]
  },
  {
   "cell_type": "code",
   "execution_count": 49,
   "id": "9be6a919-50fc-4ab2-9cb6-405eba61430c",
   "metadata": {},
   "outputs": [
    {
     "data": {
      "text/plain": [
       "{'apple', 'lemon', 'orange', 'pinapple'}"
      ]
     },
     "execution_count": 49,
     "metadata": {},
     "output_type": "execute_result"
    }
   ],
   "source": [
    "bag_1 ^ bag_2 #symatric diffrence(^)>>return element that are present in either ot sets but not in both."
   ]
  },
  {
   "cell_type": "markdown",
   "id": "180ae770-6256-42b1-a3c3-497d64971f5c",
   "metadata": {},
   "source": [
    "# When might you choose to use an array instead of a list for storing numerical data in Python? What benefits do arrays offer in this context?\n",
    "list>> in list we store heterogenous data means any data type like int,float,string,bool,complex no.\n",
    "array>> in array we store homogeneous data means same data type so computation in array so fast compare to list.in array mathematical computation provide."
   ]
  },
  {
   "cell_type": "markdown",
   "id": "448bb6ac-26b0-45a8-9c9a-9fc8e4e70150",
   "metadata": {},
   "source": [
    "# In Python, what's the primary difference between dictionaries and lists, and how does this difference impact their use cases in programming?\n",
    "list>> in list we store any data type(int,float,string,bool,complex no.) so we use list when we need to store miscellaneous data type.\n",
    "array>> in dictionary we store data in key value pair so when we required data store in key value pair use dictionary."
   ]
  }
 ],
 "metadata": {
  "kernelspec": {
   "display_name": "Python 3 (ipykernel)",
   "language": "python",
   "name": "python3"
  },
  "language_info": {
   "codemirror_mode": {
    "name": "ipython",
    "version": 3
   },
   "file_extension": ".py",
   "mimetype": "text/x-python",
   "name": "python",
   "nbconvert_exporter": "python",
   "pygments_lexer": "ipython3",
   "version": "3.12.4"
  }
 },
 "nbformat": 4,
 "nbformat_minor": 5
}
